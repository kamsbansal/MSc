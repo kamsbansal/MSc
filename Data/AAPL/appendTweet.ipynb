{
 "cells": [
  {
   "cell_type": "code",
   "execution_count": 1,
   "metadata": {
    "collapsed": true,
    "pycharm": {
     "is_executing": false
    }
   },
   "outputs": [],
   "source": [
    "import fileinput\n",
    "import glob"
   ]
  },
  {
   "cell_type": "code",
   "execution_count": 7,
   "outputs": [],
   "source": [
    "file_list = glob.glob(\"*.json\")\n",
    "try:\n",
    "    with open('aaplJanOnwards.json', 'w') as file:\n",
    "        input_lines = fileinput.input(file_list)\n",
    "        file.writelines(input_lines)\n",
    "except Exception:\n",
    "    pass"
   ],
   "metadata": {
    "collapsed": false,
    "pycharm": {
     "name": "#%%\n",
     "is_executing": false
    }
   }
  },
  {
   "cell_type": "code",
   "execution_count": 2,
   "outputs": [
    {
     "name": "stdout",
     "text": [
      "2014-01-01.json\n2014-01-02.json\n2014-01-03.json\n2014-01-04.json\n2014-01-05.json\n2014-01-06.json\n2014-01-07.json\n2014-01-08.json\n2014-01-09.json\n2014-01-10.json\n2014-01-11.json\n2014-01-12.json\n2014-01-13.json\n2014-01-14.json\n2014-01-15.json\n2014-01-16.json\n2014-01-19.json\n2014-01-20.json\n2014-01-21.json\n2014-01-22.json\n2014-01-23.json\n2014-01-24.json\n2014-01-25.json\n2014-01-26.json\n2014-01-27.json\n2014-01-28.json\n2014-01-29.json\n2014-01-30.json\n2014-01-31.json\n2014-02-01.json\n2014-02-02.json\n2014-02-03.json\n2014-02-04.json\n2014-02-05.json\n2014-02-06.json\n2014-02-07.json\n2014-02-08.json\n2014-02-09.json\n2014-02-10.json\n2014-02-11.json\n2014-02-12.json\n2014-02-13.json\n2014-02-14.json\n2014-02-15.json\n2014-02-16.json\n2014-02-17.json\n2014-02-18.json\n2014-02-19.json\n2014-02-20.json\n2014-02-21.json\n2014-02-22.json\n2014-02-23.json\n2014-02-24.json\n2014-02-25.json\n2014-02-26.json\n2014-02-27.json\n2014-02-28.json\n2014-03-01.json\n2014-03-02.json\n2014-03-03.json\n2014-03-04.json\n2014-03-05.json\n2014-03-06.json\n2014-03-07.json\n2014-03-08.json\n2014-03-09.json\n2014-03-10.json\n2014-03-11.json\n2014-03-12.json\n2014-03-13.json\n2014-03-14.json\n2014-03-15.json\n2014-03-16.json\n2014-03-17.json\n2014-03-18.json\n2014-03-19.json\n2014-03-20.json\n2014-03-21.json\n2014-03-22.json\n2014-03-23.json\n2014-03-24.json\n2014-03-25.json\n2014-03-26.json\n2014-03-27.json\n2014-03-28.json\n2014-03-29.json\n2014-03-30.json\n2014-03-31.json\n2014-04-01.json\n2014-04-02.json\n2014-04-03.json\n2014-04-04.json\n2014-04-05.json\n2014-04-06.json\n2014-04-07.json\n2014-04-08.json\n2014-04-09.json\n2014-04-10.json\n2014-04-11.json\n2014-04-12.json\n2014-04-13.json\n2014-04-14.json\n2014-04-15.json\n2014-04-16.json\n2014-04-17.json\n2014-04-18.json\n2014-04-19.json\n2014-04-20.json\n2014-04-21.json\n2014-04-22.json\n2014-04-23.json\n2014-04-24.json\n2014-04-25.json\n2014-04-26.json\n2014-04-27.json\n2014-04-28.json\n2014-04-29.json\n2014-04-30.json\n2014-05-01.json\n2014-05-02.json\n2014-05-03.json\n2014-05-04.json\n2014-05-05.json\n2014-05-06.json\n2014-05-07.json\n2014-05-08.json\n2014-05-09.json\n2014-05-10.json\n2014-05-11.json\n2014-05-12.json\n2014-05-13.json\n2014-05-14.json\n2014-05-15.json\n2014-05-16.json\n2014-05-17.json\n2014-05-18.json\n2014-05-19.json\n2014-05-20.json\n2014-05-21.json\n2014-05-22.json\n2014-05-23.json\n2014-05-24.json\n2014-05-25.json\n2014-05-26.json\n2014-05-27.json\n2014-05-28.json\n2014-05-29.json\n2014-05-30.json\n2014-05-31.json\n2014-06-01.json\n2014-06-02.json\n2014-06-03.json\n2014-06-04.json\n2014-06-05.json\n2014-06-06.json\n2014-06-07.json\n2014-06-08.json\n2014-06-09.json\n2014-06-10.json\n2014-06-11.json\n2014-06-12.json\n2014-06-13.json\n2014-06-14.json\n2014-06-15.json\n2014-06-16.json\n2014-06-18.json\n2014-06-19.json\n2014-06-20.json\n2014-06-21.json\n2014-06-22.json\n2014-06-23.json\n2014-06-24.json\n2014-06-25.json\n2014-06-26.json\n2014-06-27.json\n2014-06-28.json\n2014-06-29.json\n2014-06-30.json\n2014-07-01.json\n2014-07-02.json\n2014-07-03.json\n2014-07-04.json\n2014-07-05.json\n2014-07-06.json\n2014-07-07.json\n2014-07-08.json\n2014-07-09.json\n2014-07-10.json\n2014-07-11.json\n2014-07-12.json\n2014-07-13.json\n2014-07-14.json\n2014-07-15.json\n2014-07-16.json\n2014-07-17.json\n2014-07-18.json\n2014-07-19.json\n2014-07-20.json\n2014-07-21.json\n2014-07-22.json\n2014-07-23.json\n2014-07-24.json\n2014-07-25.json\n2014-07-26.json\n2014-07-27.json\n2014-07-28.json\n2014-07-29.json\n2014-07-30.json\n2014-07-31.json\n2014-08-01.json\n2014-08-02.json\n2014-08-03.json\n2014-08-04.json\n2014-08-07.json\n2014-08-08.json\n2014-08-09.json\n2014-08-10.json\n2014-08-11.json\n2014-08-12.json\n2014-08-13.json\n2014-08-14.json\n2014-08-15.json\n2014-08-16.json\n2014-08-17.json\n2014-08-18.json\n2014-08-19.json\n2014-08-20.json\n2014-08-21.json\n2014-08-22.json\n2014-08-23.json\n2014-08-24.json\n2014-08-25.json\n2014-08-26.json\n2014-08-27.json\n2014-08-28.json\n2014-08-29.json\n2014-08-30.json\n2014-08-31.json\n2014-09-01.json\n2014-09-02.json\n2014-09-03.json\n2014-09-04.json\n2014-09-05.json\n2014-09-06.json\n2014-09-07.json\n2014-09-08.json\n2014-09-09.json\n2014-09-10.json\n2014-09-11.json\n2014-09-12.json\n2014-09-13.json\n2014-09-14.json\n2014-09-15.json\n2014-09-16.json\n2014-09-17.json\n2014-09-18.json\n2014-09-19.json\n2014-09-20.json\n2014-09-21.json\n2014-09-22.json\n2014-09-23.json\n2014-09-29.json\n2014-09-30.json\n2014-10-01.json\n2014-10-02.json\n2014-10-03.json\n2014-10-04.json\n2014-10-05.json\n2014-10-06.json\n2014-10-07.json\n2014-10-08.json\n2014-10-09.json\n2014-10-10.json\n2014-10-11.json\n2014-10-12.json\n2014-10-13.json\n2014-10-14.json\n2014-10-15.json\n2014-10-16.json\n2014-10-17.json\n2014-10-18.json\n2014-10-19.json\n2014-10-20.json\n2014-10-21.json\n2014-10-22.json\n2014-10-23.json\n2014-10-24.json\n2014-10-25.json\n2014-10-26.json\n2014-10-27.json\n2014-10-28.json\n2014-10-29.json\n2014-10-30.json\n2014-10-31.json\n2014-11-01.json\n2014-11-02.json\n2014-11-03.json\n2014-11-04.json\n2014-11-05.json\n2014-11-06.json\n2014-11-07.json\n2014-11-08.json\n2014-11-09.json\n2014-11-14.json\n2014-11-24.json\n2014-11-25.json\n2014-11-26.json\n2014-11-27.json\n2014-11-28.json\n2014-11-29.json\n2014-11-30.json\n2014-12-01.json\n2014-12-02.json\n2014-12-03.json\n2014-12-04.json\n2014-12-05.json\n2014-12-06.json\n2014-12-07.json\n2014-12-08.json\n2014-12-09.json\n2014-12-10.json\n2014-12-11.json\n2014-12-12.json\n2014-12-13.json\n2014-12-14.json\n2014-12-15.json\n2014-12-16.json\n2014-12-17.json\n2014-12-18.json\n2014-12-19.json\n2014-12-21.json\n2014-12-22.json\n2014-12-23.json\n2014-12-24.json\n2014-12-25.json\n2014-12-26.json\n2014-12-27.json\n2014-12-28.json\n2014-12-29.json\n2014-12-30.json\n2014-12-31.json\n2015-01-01.json\n2015-01-02.json\n2015-01-03.json\n2015-01-04.json\n2015-01-05.json\n2015-01-06.json\n2015-01-07.json\n2015-01-08.json\n2015-01-09.json\n2015-01-10.json\n2015-01-11.json\n2015-01-12.json\n2015-01-13.json\n2015-01-14.json\n2015-01-15.json\n2015-01-16.json\n2015-01-17.json\n2015-01-18.json\n2015-01-19.json\n2015-01-20.json\n2015-01-21.json\n2015-01-22.json\n2015-01-23.json\n2015-01-24.json\n2015-01-25.json\n2015-01-26.json\n2015-01-27.json\n2015-01-28.json\n2015-01-29.json\n2015-01-30.json\n2015-01-31.json\n2015-02-01.json\n2015-02-02.json\n2015-02-03.json\n2015-02-04.json\n2015-02-05.json\n2015-02-06.json\n2015-02-07.json\n2015-02-08.json\n2015-02-09.json\n2015-02-10.json\n2015-02-11.json\n2015-02-12.json\n2015-02-13.json\n2015-02-14.json\n2015-02-15.json\n2015-02-16.json\n2015-02-17.json\n2015-02-18.json\n2015-02-19.json\n2015-02-20.json\n2015-02-21.json\n2015-02-22.json\n2015-02-23.json\n2015-02-24.json\n2015-02-25.json\n2015-02-26.json\n2015-02-27.json\n2015-02-28.json\n2015-03-01.json\n2015-03-02.json\n2015-03-03.json\n2015-03-04.json\n2015-03-05.json\n2015-03-06.json\n2015-03-07.json\n2015-03-09.json\n2015-03-10.json\n2015-03-11.json\n2015-03-12.json\n2015-03-13.json\n2015-03-14.json\n2015-03-15.json\n2015-03-16.json\n2015-03-17.json\n2015-03-18.json\n2015-03-19.json\n2015-03-20.json\n2015-03-21.json\n2015-03-22.json\n2015-03-23.json\n2015-03-24.json\n2015-03-25.json\n2015-03-26.json\n2015-03-27.json\n2015-03-28.json\n2015-03-29.json\n2015-03-30.json\n2015-03-31.json\n2015-04-01.json\n2015-04-02.json\n2015-04-03.json\n2015-04-04.json\n2015-04-05.json\n2015-04-06.json\n2015-04-07.json\n2015-04-08.json\n2015-04-09.json\n2015-04-10.json\n2015-04-11.json\n2015-04-12.json\n2015-04-13.json\n2015-04-14.json\n2015-04-15.json\n2015-04-16.json\n2015-04-17.json\n2015-04-18.json\n2015-04-19.json\n2015-04-20.json\n2015-04-21.json\n2015-04-22.json\n2015-04-23.json\n2015-04-24.json\n2015-04-25.json\n2015-04-26.json\n2015-04-27.json\n2015-04-28.json\n2015-04-29.json\n2015-04-30.json\n2015-05-01.json\n2015-05-02.json\n2015-05-03.json\n2015-05-04.json\n2015-05-05.json\n2015-05-06.json\n2015-05-07.json\n2015-05-08.json\n2015-05-09.json\n2015-05-10.json\n2015-05-11.json\n2015-05-12.json\n2015-05-13.json\n2015-05-14.json\n2015-05-15.json\n2015-05-16.json\n2015-05-17.json\n2015-05-18.json\n2015-05-19.json\n2015-05-20.json\n2015-05-21.json\n2015-05-22.json\n2015-05-23.json\n2015-05-24.json\n2015-05-25.json\n2015-05-26.json\n2015-05-27.json\n2015-05-28.json\n2015-05-29.json\n2015-05-30.json\n2015-05-31.json\n2015-06-01.json\n2015-06-02.json\n2015-06-03.json\n2015-06-04.json\n2015-06-06.json\n2015-06-07.json\n2015-06-08.json\n2015-06-09.json\n2015-06-10.json\n2015-06-11.json\n2015-06-12.json\n2015-06-13.json\n2015-06-14.json\n2015-06-15.json\n2015-06-16.json\n2015-06-17.json\n2015-06-18.json\n2015-06-19.json\n2015-06-20.json\n2015-06-21.json\n2015-06-22.json\n2015-06-24.json\n2015-06-25.json\n2015-06-26.json\n2015-06-27.json\n2015-06-28.json\n2015-06-29.json\n2015-06-30.json\n2015-07-01.json\n2015-07-02.json\n2015-07-03.json\n2015-07-04.json\n2015-07-05.json\n2015-07-06.json\n2015-07-07.json\n2015-07-09.json\n2015-07-10.json\n2015-07-11.json\n2015-07-12.json\n2015-07-13.json\n2015-07-14.json\n2015-07-15.json\n2015-07-16.json\n2015-07-17.json\n2015-07-18.json\n2015-07-19.json\n2015-07-20.json\n2015-07-21.json\n2015-07-22.json\n2015-07-23.json\n2015-07-24.json\n2015-07-25.json\n2015-07-26.json\n2015-07-27.json\n2015-07-28.json\n2015-07-29.json\n2015-07-30.json\n2015-07-31.json\n2015-08-01.json\n2015-08-02.json\n2015-08-03.json\n2015-08-04.json\n2015-08-05.json\n2015-08-06.json\n2015-08-07.json\n2015-08-08.json\n2015-08-09.json\n2015-08-10.json\n2015-08-11.json\n2015-08-12.json\n2015-08-13.json\n2015-08-14.json\n2015-08-16.json\n2015-08-17.json\n2015-08-18.json\n2015-08-19.json\n2015-08-20.json\n2015-08-21.json\n2015-08-22.json\n2015-08-23.json\n2015-08-24.json\n2015-08-25.json\n2015-08-26.json\n2015-08-27.json\n2015-08-28.json\n2015-08-29.json\n2015-08-30.json\n2015-08-31.json\n2015-09-01.json\n2015-09-02.json\n2015-09-03.json\n2015-09-04.json\n2015-09-05.json\n2015-09-06.json\n2015-09-07.json\n2015-09-08.json\n2015-09-09.json\n2015-09-10.json\n2015-09-11.json\n2015-09-12.json\n2015-09-13.json\n2015-09-14.json\n2015-09-15.json\n2015-09-16.json\n2015-09-19.json\n2015-09-20.json\n2015-09-21.json\n2015-09-22.json\n2015-09-23.json\n2015-09-24.json\n2015-09-25.json\n2015-09-26.json\n2015-09-27.json\n2015-09-28.json\n2015-09-29.json\n2015-09-30.json\n2015-10-01.json\n2015-10-02.json\n2015-10-03.json\n2015-10-04.json\n2015-10-05.json\n2015-10-06.json\n2015-10-07.json\n2015-10-08.json\n2015-10-09.json\n2015-10-10.json\n2015-10-11.json\n2015-10-12.json\n2015-10-13.json\n2015-10-14.json\n2015-10-15.json\n2015-10-16.json\n2015-10-17.json\n2015-10-18.json\n2015-10-19.json\n2015-10-20.json\n2015-10-21.json\n2015-10-22.json\n2015-10-23.json\n2015-10-24.json\n2015-10-25.json\n2015-10-26.json\n2015-10-27.json\n2015-10-28.json\n2015-10-29.json\n2015-10-30.json\n2015-10-31.json\n2015-11-01.json\n2015-11-02.json\n2015-11-03.json\n2015-11-04.json\n2015-11-05.json\n2015-11-06.json\n2015-11-07.json\n2015-11-08.json\n2015-11-09.json\n2015-11-10.json\n2015-11-11.json\n2015-11-12.json\n2015-11-13.json\n2015-11-14.json\n2015-11-15.json\n2015-11-16.json\n2015-11-17.json\n2015-11-18.json\n2015-11-19.json\n2015-11-20.json\n2015-11-21.json\n2015-11-22.json\n2015-11-23.json\n2015-11-24.json\n2015-11-25.json\n2015-11-26.json\n2015-11-28.json\n2015-11-29.json\n2015-11-30.json\n2015-12-01.json\n2015-12-02.json\n2015-12-03.json\n2015-12-04.json\n2015-12-05.json\n2015-12-06.json\n2015-12-07.json\n2015-12-08.json\n2015-12-09.json\n2015-12-10.json\n2015-12-11.json\n2015-12-12.json\n2015-12-13.json\n2015-12-14.json\n2015-12-15.json\n2015-12-17.json\n2015-12-19.json\n2015-12-20.json\n2015-12-21.json\n2015-12-22.json\n2015-12-23.json\n2015-12-24.json\n2015-12-25.json\n2015-12-26.json\n2015-12-27.json\n2015-12-28.json\n2015-12-29.json\n2015-12-30.json\n2015-12-31.json\naaplCombinedTweets.json\nchangeFile.json\n"
     ],
     "output_type": "stream"
    }
   ],
   "source": [
    "import glob, os\n",
    "os.chdir(\"C:\\\\Users\\\\Kam\\\\OneDrive\\\\UoB\\\\End of Year Project\\\\MainProject\\\\Data\\\\stocknet-dataset\\\\tweet\\\\preprocessed\\\\AAPL\")\n",
    "for file in glob.glob(\"*.json\"):\n",
    "    print(file)\n"
   ],
   "metadata": {
    "collapsed": false,
    "pycharm": {
     "name": "#%%\n",
     "is_executing": false
    }
   }
  },
  {
   "cell_type": "code",
   "execution_count": null,
   "outputs": [],
   "source": [
    "\n",
    "import pandas as pd\n",
    "import glob\n",
    "path = 'C:\\\\Users\\\\Kam\\\\OneDrive\\\\UoB\\\\End of Year Project\\\\MainProject\\\\Data\\\\stocknet-dataset\\\\tweet\\\\preprocessed\\\\AAPL' # use your path\n",
    "all_files = glob.glob(path + \"*.txt\")\n",
    "\n",
    "li = []\n",
    "\n",
    "for filename in all_files:\n",
    "    df = pd.read_csv(filename, index_col=None, header=0)\n",
    "    li.append(df)\n",
    "\n",
    "frame = pd.concat(li, axis=0, ignore_index=True)\n"
   ],
   "metadata": {
    "collapsed": false,
    "pycharm": {
     "name": "#%%\n"
    }
   }
  },
  {
   "cell_type": "code",
   "execution_count": 5,
   "outputs": [
    {
     "name": "stdout",
     "text": [
      "2014-01-01.json\n2014-01-02.json\n2014-01-03.json\n2014-01-04.json\n2014-01-05.json\n2014-01-06.json\n2014-01-07.json\n2014-01-08.json\n2014-01-09.json\n2014-01-10.json\n2014-01-11.json\n2014-01-12.json\n2014-01-13.json\n2014-01-14.json\n2014-01-15.json\n2014-01-16.json\n2014-01-19.json\n2014-01-20.json\n2014-01-21.json\n2014-01-22.json\n2014-01-23.json\n2014-01-24.json\n2014-01-25.json\n2014-01-26.json\n2014-01-27.json\n2014-01-28.json\n2014-01-29.json\n2014-01-30.json\n2014-01-31.json\n2014-02-01.json\n2014-02-02.json\n2014-02-03.json\n2014-02-04.json\n2014-02-05.json\n2014-02-06.json\n2014-02-07.json\n2014-02-08.json\n2014-02-09.json\n2014-02-10.json\n2014-02-11.json\n2014-02-12.json\n2014-02-13.json\n2014-02-14.json\n2014-02-15.json\n2014-02-16.json\n2014-02-17.json\n2014-02-18.json\n2014-02-19.json\n2014-02-20.json\n2014-02-21.json\n2014-02-22.json\n2014-02-23.json\n2014-02-24.json\n2014-02-25.json\n2014-02-26.json\n2014-02-27.json\n2014-02-28.json\n2014-03-01.json\n2014-03-02.json\n2014-03-03.json\n2014-03-04.json\n2014-03-05.json\n2014-03-06.json\n2014-03-07.json\n2014-03-08.json\n2014-03-09.json\n2014-03-10.json\n2014-03-11.json\n2014-03-12.json\n2014-03-13.json\n2014-03-14.json\n2014-03-15.json\n2014-03-16.json\n2014-03-17.json\n2014-03-18.json\n2014-03-19.json\n2014-03-20.json\n2014-03-21.json\n2014-03-22.json\n2014-03-23.json\n2014-03-24.json\n2014-03-25.json\n2014-03-26.json\n2014-03-27.json\n2014-03-28.json\n2014-03-29.json\n2014-03-30.json\n2014-03-31.json\n2014-04-01.json\n2014-04-02.json\n2014-04-03.json\n2014-04-04.json\n2014-04-05.json\n2014-04-06.json\n2014-04-07.json\n2014-04-08.json\n2014-04-09.json\n2014-04-10.json\n2014-04-11.json\n2014-04-12.json\n2014-04-13.json\n2014-04-14.json\n2014-04-15.json\n2014-04-16.json\n2014-04-17.json\n2014-04-18.json\n2014-04-19.json\n2014-04-20.json\n2014-04-21.json\n2014-04-22.json\n2014-04-23.json\n2014-04-24.json\n2014-04-25.json\n2014-04-26.json\n2014-04-27.json\n2014-04-28.json\n2014-04-29.json\n2014-04-30.json\n2014-05-01.json\n2014-05-02.json\n2014-05-03.json\n2014-05-04.json\n2014-05-05.json\n2014-05-06.json\n2014-05-07.json\n2014-05-08.json\n2014-05-09.json\n2014-05-10.json\n2014-05-11.json\n2014-05-12.json\n2014-05-13.json\n2014-05-14.json\n2014-05-15.json\n2014-05-16.json\n2014-05-17.json\n2014-05-18.json\n2014-05-19.json\n2014-05-20.json\n2014-05-21.json\n2014-05-22.json\n2014-05-23.json\n2014-05-24.json\n2014-05-25.json\n2014-05-26.json\n2014-05-27.json\n2014-05-28.json\n2014-05-29.json\n2014-05-30.json\n2014-05-31.json\n2014-06-01.json\n2014-06-02.json\n2014-06-03.json\n2014-06-04.json\n2014-06-05.json\n2014-06-06.json\n2014-06-07.json\n2014-06-08.json\n2014-06-09.json\n2014-06-10.json\n2014-06-11.json\n2014-06-12.json\n2014-06-13.json\n2014-06-14.json\n2014-06-15.json\n2014-06-16.json\n2014-06-18.json\n2014-06-19.json\n2014-06-20.json\n2014-06-21.json\n2014-06-22.json\n2014-06-23.json\n2014-06-24.json\n2014-06-25.json\n2014-06-26.json\n2014-06-27.json\n2014-06-28.json\n2014-06-29.json\n2014-06-30.json\n2014-07-01.json\n2014-07-02.json\n2014-07-03.json\n2014-07-04.json\n2014-07-05.json\n2014-07-06.json\n2014-07-07.json\n2014-07-08.json\n2014-07-09.json\n2014-07-10.json\n2014-07-11.json\n2014-07-12.json\n2014-07-13.json\n2014-07-14.json\n2014-07-15.json\n2014-07-16.json\n2014-07-17.json\n2014-07-18.json\n2014-07-19.json\n2014-07-20.json\n2014-07-21.json\n2014-07-22.json\n2014-07-23.json\n2014-07-24.json\n2014-07-25.json\n2014-07-26.json\n2014-07-27.json\n2014-07-28.json\n2014-07-29.json\n2014-07-30.json\n2014-07-31.json\n2014-08-01.json\n2014-08-02.json\n2014-08-03.json\n2014-08-04.json\n2014-08-07.json\n2014-08-08.json\n2014-08-09.json\n2014-08-10.json\n2014-08-11.json\n2014-08-12.json\n2014-08-13.json\n2014-08-14.json\n2014-08-15.json\n2014-08-16.json\n2014-08-17.json\n2014-08-18.json\n2014-08-19.json\n2014-08-20.json\n2014-08-21.json\n2014-08-22.json\n2014-08-23.json\n2014-08-24.json\n2014-08-25.json\n2014-08-26.json\n2014-08-27.json\n2014-08-28.json\n2014-08-29.json\n2014-08-30.json\n2014-08-31.json\n2014-09-01.json\n2014-09-02.json\n2014-09-03.json\n2014-09-04.json\n2014-09-05.json\n2014-09-06.json\n2014-09-07.json\n2014-09-08.json\n2014-09-09.json\n2014-09-10.json\n2014-09-11.json\n2014-09-12.json\n2014-09-13.json\n2014-09-14.json\n2014-09-15.json\n2014-09-16.json\n2014-09-17.json\n2014-09-18.json\n2014-09-19.json\n2014-09-20.json\n2014-09-21.json\n2014-09-22.json\n2014-09-23.json\n2014-09-29.json\n2014-09-30.json\n2014-10-01.json\n2014-10-02.json\n2014-10-03.json\n2014-10-04.json\n2014-10-05.json\n2014-10-06.json\n2014-10-07.json\n2014-10-08.json\n2014-10-09.json\n2014-10-10.json\n2014-10-11.json\n2014-10-12.json\n2014-10-13.json\n2014-10-14.json\n2014-10-15.json\n2014-10-16.json\n2014-10-17.json\n2014-10-18.json\n2014-10-19.json\n2014-10-20.json\n2014-10-21.json\n2014-10-22.json\n2014-10-23.json\n2014-10-24.json\n2014-10-25.json\n2014-10-26.json\n2014-10-27.json\n2014-10-28.json\n2014-10-29.json\n2014-10-30.json\n2014-10-31.json\n2014-11-01.json\n2014-11-02.json\n2014-11-03.json\n2014-11-04.json\n2014-11-05.json\n2014-11-06.json\n2014-11-07.json\n2014-11-08.json\n2014-11-09.json\n2014-11-14.json\n2014-11-24.json\n2014-11-25.json\n2014-11-26.json\n2014-11-27.json\n2014-11-28.json\n2014-11-29.json\n2014-11-30.json\n2014-12-01.json\n2014-12-02.json\n2014-12-03.json\n2014-12-04.json\n2014-12-05.json\n2014-12-06.json\n2014-12-07.json\n2014-12-08.json\n2014-12-09.json\n2014-12-10.json\n2014-12-11.json\n2014-12-12.json\n2014-12-13.json\n2014-12-14.json\n2014-12-15.json\n2014-12-16.json\n2014-12-17.json\n2014-12-18.json\n2014-12-19.json\n2014-12-21.json\n2014-12-22.json\n2014-12-23.json\n2014-12-24.json\n2014-12-25.json\n2014-12-26.json\n2014-12-27.json\n2014-12-28.json\n2014-12-29.json\n2014-12-30.json\n2014-12-31.json\n2015-01-01.json\n2015-01-02.json\n2015-01-03.json\n2015-01-04.json\n2015-01-05.json\n2015-01-06.json\n2015-01-07.json\n2015-01-08.json\n2015-01-09.json\n2015-01-10.json\n2015-01-11.json\n2015-01-12.json\n2015-01-13.json\n2015-01-14.json\n2015-01-15.json\n2015-01-16.json\n2015-01-17.json\n2015-01-18.json\n2015-01-19.json\n2015-01-20.json\n2015-01-21.json\n2015-01-22.json\n2015-01-23.json\n2015-01-24.json\n2015-01-25.json\n2015-01-26.json\n2015-01-27.json\n2015-01-28.json\n2015-01-29.json\n2015-01-30.json\n2015-01-31.json\n2015-02-01.json\n2015-02-02.json\n2015-02-03.json\n2015-02-04.json\n2015-02-05.json\n2015-02-06.json\n2015-02-07.json\n2015-02-08.json\n2015-02-09.json\n2015-02-10.json\n2015-02-11.json\n2015-02-12.json\n2015-02-13.json\n2015-02-14.json\n2015-02-15.json\n2015-02-16.json\n2015-02-17.json\n2015-02-18.json\n2015-02-19.json\n2015-02-20.json\n2015-02-21.json\n2015-02-22.json\n2015-02-23.json\n2015-02-24.json\n2015-02-25.json\n2015-02-26.json\n2015-02-27.json\n2015-02-28.json\n2015-03-01.json\n2015-03-02.json\n2015-03-03.json\n2015-03-04.json\n2015-03-05.json\n2015-03-06.json\n2015-03-07.json\n2015-03-09.json\n2015-03-10.json\n2015-03-11.json\n2015-03-12.json\n2015-03-13.json\n2015-03-14.json\n2015-03-15.json\n2015-03-16.json\n2015-03-17.json\n2015-03-18.json\n2015-03-19.json\n2015-03-20.json\n2015-03-21.json\n2015-03-22.json\n2015-03-23.json\n2015-03-24.json\n2015-03-25.json\n2015-03-26.json\n2015-03-27.json\n2015-03-28.json\n2015-03-29.json\n2015-03-30.json\n2015-03-31.json\n2015-04-01.json\n2015-04-02.json\n2015-04-03.json\n2015-04-04.json\n2015-04-05.json\n2015-04-06.json\n2015-04-07.json\n2015-04-08.json\n2015-04-09.json\n2015-04-10.json\n2015-04-11.json\n2015-04-12.json\n2015-04-13.json\n2015-04-14.json\n2015-04-15.json\n2015-04-16.json\n2015-04-17.json\n2015-04-18.json\n2015-04-19.json\n2015-04-20.json\n2015-04-21.json\n2015-04-22.json\n2015-04-23.json\n2015-04-24.json\n2015-04-25.json\n2015-04-26.json\n2015-04-27.json\n2015-04-28.json\n2015-04-29.json\n2015-04-30.json\n2015-05-01.json\n2015-05-02.json\n2015-05-03.json\n2015-05-04.json\n2015-05-05.json\n2015-05-06.json\n2015-05-07.json\n2015-05-08.json\n2015-05-09.json\n2015-05-10.json\n2015-05-11.json\n2015-05-12.json\n2015-05-13.json\n2015-05-14.json\n2015-05-15.json\n2015-05-16.json\n2015-05-17.json\n2015-05-18.json\n2015-05-19.json\n2015-05-20.json\n2015-05-21.json\n2015-05-22.json\n2015-05-23.json\n2015-05-24.json\n2015-05-25.json\n2015-05-26.json\n2015-05-27.json\n2015-05-28.json\n2015-05-29.json\n2015-05-30.json\n2015-05-31.json\n2015-06-01.json\n2015-06-02.json\n2015-06-03.json\n2015-06-04.json\n2015-06-06.json\n2015-06-07.json\n2015-06-08.json\n2015-06-09.json\n2015-06-10.json\n2015-06-11.json\n2015-06-12.json\n2015-06-13.json\n2015-06-14.json\n2015-06-15.json\n2015-06-16.json\n2015-06-17.json\n2015-06-18.json\n2015-06-19.json\n2015-06-20.json\n2015-06-21.json\n2015-06-22.json\n2015-06-24.json\n2015-06-25.json\n2015-06-26.json\n2015-06-27.json\n2015-06-28.json\n2015-06-29.json\n2015-06-30.json\n2015-07-01.json\n2015-07-02.json\n2015-07-03.json\n2015-07-04.json\n2015-07-05.json\n2015-07-06.json\n2015-07-07.json\n2015-07-09.json\n2015-07-10.json\n2015-07-11.json\n2015-07-12.json\n2015-07-13.json\n2015-07-14.json\n2015-07-15.json\n2015-07-16.json\n2015-07-17.json\n2015-07-18.json\n2015-07-19.json\n2015-07-20.json\n2015-07-21.json\n2015-07-22.json\n2015-07-23.json\n2015-07-24.json\n2015-07-25.json\n2015-07-26.json\n2015-07-27.json\n2015-07-28.json\n2015-07-29.json\n2015-07-30.json\n2015-07-31.json\n2015-08-01.json\n2015-08-02.json\n2015-08-03.json\n2015-08-04.json\n2015-08-05.json\n2015-08-06.json\n2015-08-07.json\n2015-08-08.json\n2015-08-09.json\n2015-08-10.json\n2015-08-11.json\n2015-08-12.json\n2015-08-13.json\n2015-08-14.json\n2015-08-16.json\n2015-08-17.json\n2015-08-18.json\n2015-08-19.json\n2015-08-20.json\n2015-08-21.json\n2015-08-22.json\n2015-08-23.json\n2015-08-24.json\n2015-08-25.json\n2015-08-26.json\n2015-08-27.json\n2015-08-28.json\n2015-08-29.json\n2015-08-30.json\n2015-08-31.json\n2015-09-01.json\n2015-09-02.json\n2015-09-03.json\n2015-09-04.json\n2015-09-05.json\n2015-09-06.json\n2015-09-07.json\n2015-09-08.json\n2015-09-09.json\n2015-09-10.json\n2015-09-11.json\n2015-09-12.json\n2015-09-13.json\n2015-09-14.json\n2015-09-15.json\n2015-09-16.json\n2015-09-19.json\n2015-09-20.json\n2015-09-21.json\n2015-09-22.json\n2015-09-23.json\n2015-09-24.json\n2015-09-25.json\n2015-09-26.json\n2015-09-27.json\n2015-09-28.json\n2015-09-29.json\n2015-09-30.json\n2015-10-01.json\n2015-10-02.json\n2015-10-03.json\n2015-10-04.json\n2015-10-05.json\n2015-10-06.json\n2015-10-07.json\n2015-10-08.json\n2015-10-09.json\n2015-10-10.json\n2015-10-11.json\n2015-10-12.json\n2015-10-13.json\n2015-10-14.json\n2015-10-15.json\n2015-10-16.json\n2015-10-17.json\n2015-10-18.json\n2015-10-19.json\n2015-10-20.json\n2015-10-21.json\n2015-10-22.json\n2015-10-23.json\n2015-10-24.json\n2015-10-25.json\n2015-10-26.json\n2015-10-27.json\n2015-10-28.json\n2015-10-29.json\n2015-10-30.json\n2015-10-31.json\n2015-11-01.json\n2015-11-02.json\n2015-11-03.json\n2015-11-04.json\n2015-11-05.json\n2015-11-06.json\n2015-11-07.json\n2015-11-08.json\n2015-11-09.json\n2015-11-10.json\n2015-11-11.json\n2015-11-12.json\n2015-11-13.json\n2015-11-14.json\n2015-11-15.json\n2015-11-16.json\n2015-11-17.json\n2015-11-18.json\n2015-11-19.json\n2015-11-20.json\n2015-11-21.json\n2015-11-22.json\n2015-11-23.json\n2015-11-24.json\n2015-11-25.json\n2015-11-26.json\n2015-11-28.json\n2015-11-29.json\n2015-11-30.json\n2015-12-01.json\n2015-12-02.json\n2015-12-03.json\n2015-12-04.json\n2015-12-05.json\n2015-12-06.json\n2015-12-07.json\n2015-12-08.json\n2015-12-09.json\n2015-12-10.json\n2015-12-11.json\n2015-12-12.json\n2015-12-13.json\n2015-12-14.json\n2015-12-15.json\n2015-12-17.json\n2015-12-19.json\n2015-12-20.json\n2015-12-21.json\n2015-12-22.json\n2015-12-23.json\n2015-12-24.json\n2015-12-25.json\n2015-12-26.json\n2015-12-27.json\n2015-12-28.json\n2015-12-29.json\n2015-12-30.json\n2015-12-31.json\n2016-01-01.json\n2016-01-02.json\n2016-01-03.json\n2016-01-04.json\n2016-01-05.json\n2016-01-06.json\n2016-01-07.json\n2016-01-08.json\n2016-01-09.json\n2016-01-10.json\n2016-01-11.json\n2016-01-12.json\n2016-01-13.json\n2016-01-14.json\n2016-01-15.json\n2016-01-16.json\n2016-01-17.json\n2016-01-18.json\n2016-01-19.json\n2016-01-20.json\n2016-01-21.json\n2016-01-22.json\n2016-01-23.json\n2016-01-24.json\n2016-01-25.json\n2016-01-26.json\n2016-01-27.json\n2016-01-28.json\n2016-01-29.json\n2016-01-30.json\n2016-01-31.json\n2016-02-01.json\n2016-02-02.json\n2016-02-03.json\n2016-02-04.json\n2016-02-05.json\n2016-02-06.json\n2016-02-07.json\n2016-02-08.json\n2016-02-09.json\n2016-02-10.json\n2016-02-11.json\n2016-02-12.json\n2016-02-13.json\n2016-02-14.json\n2016-02-15.json\n2016-02-16.json\n2016-02-17.json\n2016-02-18.json\n2016-02-19.json\n2016-02-20.json\n2016-02-21.json\n2016-02-22.json\n2016-02-23.json\n2016-02-24.json\n2016-02-25.json\n2016-02-26.json\n2016-02-27.json\n2016-02-28.json\n2016-03-01.json\n2016-03-02.json\n2016-03-03.json\n2016-03-04.json\n2016-03-05.json\n2016-03-06.json\n2016-03-07.json\n2016-03-08.json\n2016-03-09.json\n2016-03-10.json\n2016-03-11.json\n2016-03-12.json\n2016-03-15.json\n2016-03-16.json\n2016-03-17.json\n2016-03-18.json\n2016-03-19.json\n2016-03-20.json\n2016-03-21.json\n2016-03-22.json\n2016-03-23.json\n2016-03-24.json\n2016-03-25.json\n2016-03-26.json\n2016-03-27.json\n2016-03-28.json\n2016-03-29.json\n2016-03-30.json\n2016-03-31.json\n"
     ],
     "output_type": "stream"
    }
   ],
   "source": [
    "\n",
    "import glob, os\n",
    "os.chdir(\"C:\\\\Users\\\\Kam\\\\OneDrive\\\\UoB\\\\End of Year Project\\\\MainProject\\\\Data\\\\stocknet-dataset\\\\tweet\\\\raw\\\\AAPL\")\n",
    "for file in glob.glob(\"*.json\"):\n",
    "    print(file)"
   ],
   "metadata": {
    "collapsed": false,
    "pycharm": {
     "name": "#%%\n",
     "is_executing": false
    }
   }
  },
  {
   "cell_type": "code",
   "execution_count": 2,
   "outputs": [],
   "source": [],
   "metadata": {
    "collapsed": false,
    "pycharm": {
     "name": "#%%\n",
     "is_executing": false
    }
   }
  },
  {
   "cell_type": "code",
   "execution_count": 1,
   "outputs": [],
   "source": [
    "import fileinput\n",
    "import glob"
   ],
   "metadata": {
    "collapsed": false,
    "pycharm": {
     "name": "#%%\n",
     "is_executing": false
    }
   }
  },
  {
   "cell_type": "code",
   "execution_count": 2,
   "outputs": [],
   "source": [
    "\n",
    "file_list = glob.glob(\"*.json\")\n",
    "\n",
    "with open('aapleCombined.json', 'w') as file:\n",
    "    input_lines = fileinput.input(file_list)\n",
    "    file.writelines(input_lines)"
   ],
   "metadata": {
    "collapsed": false,
    "pycharm": {
     "name": "#%%\n",
     "is_executing": false
    }
   }
  },
  {
   "cell_type": "code",
   "execution_count": 1,
   "outputs": [
    {
     "traceback": [
      "\u001b[1;31m---------------------------------------------------------------------------\u001b[0m",
      "\u001b[1;31mJSONDecodeError\u001b[0m                           Traceback (most recent call last)",
      "\u001b[1;32m<ipython-input-1-336828acefbd>\u001b[0m in \u001b[0;36m<module>\u001b[1;34m\u001b[0m\n\u001b[0;32m      6\u001b[0m \u001b[1;32mfor\u001b[0m \u001b[0mf\u001b[0m \u001b[1;32min\u001b[0m \u001b[0mglob\u001b[0m\u001b[1;33m.\u001b[0m\u001b[0mglob\u001b[0m\u001b[1;33m(\u001b[0m\u001b[1;34m\"*.json\"\u001b[0m\u001b[1;33m)\u001b[0m\u001b[1;33m:\u001b[0m\u001b[1;33m\u001b[0m\u001b[1;33m\u001b[0m\u001b[0m\n\u001b[0;32m      7\u001b[0m     \u001b[1;32mwith\u001b[0m \u001b[0mopen\u001b[0m\u001b[1;33m(\u001b[0m\u001b[0mf\u001b[0m\u001b[1;33m,\u001b[0m \u001b[1;34m\"rb\"\u001b[0m\u001b[1;33m)\u001b[0m \u001b[1;32mas\u001b[0m \u001b[0mfilename\u001b[0m\u001b[1;33m:\u001b[0m\u001b[1;33m\u001b[0m\u001b[1;33m\u001b[0m\u001b[0m\n\u001b[1;32m----> 8\u001b[1;33m         \u001b[0mar\u001b[0m\u001b[1;33m.\u001b[0m\u001b[0mappend\u001b[0m\u001b[1;33m(\u001b[0m\u001b[0mjson\u001b[0m\u001b[1;33m.\u001b[0m\u001b[0mload\u001b[0m\u001b[1;33m(\u001b[0m\u001b[0mfilename\u001b[0m\u001b[1;33m)\u001b[0m\u001b[1;33m)\u001b[0m\u001b[1;33m\u001b[0m\u001b[1;33m\u001b[0m\u001b[0m\n\u001b[0m",
      "\u001b[1;32m~\\Anaconda3\\envs\\MainProject\\lib\\json\\__init__.py\u001b[0m in \u001b[0;36mload\u001b[1;34m(fp, cls, object_hook, parse_float, parse_int, parse_constant, object_pairs_hook, **kw)\u001b[0m\n\u001b[0;32m    294\u001b[0m         \u001b[0mcls\u001b[0m\u001b[1;33m=\u001b[0m\u001b[0mcls\u001b[0m\u001b[1;33m,\u001b[0m \u001b[0mobject_hook\u001b[0m\u001b[1;33m=\u001b[0m\u001b[0mobject_hook\u001b[0m\u001b[1;33m,\u001b[0m\u001b[1;33m\u001b[0m\u001b[1;33m\u001b[0m\u001b[0m\n\u001b[0;32m    295\u001b[0m         \u001b[0mparse_float\u001b[0m\u001b[1;33m=\u001b[0m\u001b[0mparse_float\u001b[0m\u001b[1;33m,\u001b[0m \u001b[0mparse_int\u001b[0m\u001b[1;33m=\u001b[0m\u001b[0mparse_int\u001b[0m\u001b[1;33m,\u001b[0m\u001b[1;33m\u001b[0m\u001b[1;33m\u001b[0m\u001b[0m\n\u001b[1;32m--> 296\u001b[1;33m         parse_constant=parse_constant, object_pairs_hook=object_pairs_hook, **kw)\n\u001b[0m\u001b[0;32m    297\u001b[0m \u001b[1;33m\u001b[0m\u001b[0m\n\u001b[0;32m    298\u001b[0m \u001b[1;33m\u001b[0m\u001b[0m\n",
      "\u001b[1;32m~\\Anaconda3\\envs\\MainProject\\lib\\json\\__init__.py\u001b[0m in \u001b[0;36mloads\u001b[1;34m(s, encoding, cls, object_hook, parse_float, parse_int, parse_constant, object_pairs_hook, **kw)\u001b[0m\n\u001b[0;32m    346\u001b[0m             \u001b[0mparse_int\u001b[0m \u001b[1;32mis\u001b[0m \u001b[1;32mNone\u001b[0m \u001b[1;32mand\u001b[0m \u001b[0mparse_float\u001b[0m \u001b[1;32mis\u001b[0m \u001b[1;32mNone\u001b[0m \u001b[1;32mand\u001b[0m\u001b[1;33m\u001b[0m\u001b[1;33m\u001b[0m\u001b[0m\n\u001b[0;32m    347\u001b[0m             parse_constant is None and object_pairs_hook is None and not kw):\n\u001b[1;32m--> 348\u001b[1;33m         \u001b[1;32mreturn\u001b[0m \u001b[0m_default_decoder\u001b[0m\u001b[1;33m.\u001b[0m\u001b[0mdecode\u001b[0m\u001b[1;33m(\u001b[0m\u001b[0ms\u001b[0m\u001b[1;33m)\u001b[0m\u001b[1;33m\u001b[0m\u001b[1;33m\u001b[0m\u001b[0m\n\u001b[0m\u001b[0;32m    349\u001b[0m     \u001b[1;32mif\u001b[0m \u001b[0mcls\u001b[0m \u001b[1;32mis\u001b[0m \u001b[1;32mNone\u001b[0m\u001b[1;33m:\u001b[0m\u001b[1;33m\u001b[0m\u001b[1;33m\u001b[0m\u001b[0m\n\u001b[0;32m    350\u001b[0m         \u001b[0mcls\u001b[0m \u001b[1;33m=\u001b[0m \u001b[0mJSONDecoder\u001b[0m\u001b[1;33m\u001b[0m\u001b[1;33m\u001b[0m\u001b[0m\n",
      "\u001b[1;32m~\\Anaconda3\\envs\\MainProject\\lib\\json\\decoder.py\u001b[0m in \u001b[0;36mdecode\u001b[1;34m(self, s, _w)\u001b[0m\n\u001b[0;32m    338\u001b[0m         \u001b[0mend\u001b[0m \u001b[1;33m=\u001b[0m \u001b[0m_w\u001b[0m\u001b[1;33m(\u001b[0m\u001b[0ms\u001b[0m\u001b[1;33m,\u001b[0m \u001b[0mend\u001b[0m\u001b[1;33m)\u001b[0m\u001b[1;33m.\u001b[0m\u001b[0mend\u001b[0m\u001b[1;33m(\u001b[0m\u001b[1;33m)\u001b[0m\u001b[1;33m\u001b[0m\u001b[1;33m\u001b[0m\u001b[0m\n\u001b[0;32m    339\u001b[0m         \u001b[1;32mif\u001b[0m \u001b[0mend\u001b[0m \u001b[1;33m!=\u001b[0m \u001b[0mlen\u001b[0m\u001b[1;33m(\u001b[0m\u001b[0ms\u001b[0m\u001b[1;33m)\u001b[0m\u001b[1;33m:\u001b[0m\u001b[1;33m\u001b[0m\u001b[1;33m\u001b[0m\u001b[0m\n\u001b[1;32m--> 340\u001b[1;33m             \u001b[1;32mraise\u001b[0m \u001b[0mJSONDecodeError\u001b[0m\u001b[1;33m(\u001b[0m\u001b[1;34m\"Extra data\"\u001b[0m\u001b[1;33m,\u001b[0m \u001b[0ms\u001b[0m\u001b[1;33m,\u001b[0m \u001b[0mend\u001b[0m\u001b[1;33m)\u001b[0m\u001b[1;33m\u001b[0m\u001b[1;33m\u001b[0m\u001b[0m\n\u001b[0m\u001b[0;32m    341\u001b[0m         \u001b[1;32mreturn\u001b[0m \u001b[0mobj\u001b[0m\u001b[1;33m\u001b[0m\u001b[1;33m\u001b[0m\u001b[0m\n\u001b[0;32m    342\u001b[0m \u001b[1;33m\u001b[0m\u001b[0m\n",
      "\u001b[1;31mJSONDecodeError\u001b[0m: Extra data: line 2 column 1 (char 4983)"
     ],
     "ename": "JSONDecodeError",
     "evalue": "Extra data: line 2 column 1 (char 4983)",
     "output_type": "error"
    }
   ],
   "source": [
    "import json\n",
    "import glob\n",
    "import glob2\n",
    "\n",
    "ar = []\n",
    "for f in glob.glob(\"*.json\"):\n",
    "    with open(f, \"rb\") as filename:\n",
    "        ar.append(json.load(filename))"
   ],
   "metadata": {
    "collapsed": false,
    "pycharm": {
     "name": "#%%\n",
     "is_executing": false
    }
   }
  },
  {
   "cell_type": "code",
   "execution_count": 4,
   "outputs": [
    {
     "traceback": [
      "\u001b[1;31m---------------------------------------------------------------------------\u001b[0m",
      "\u001b[1;31mOSError\u001b[0m                                   Traceback (most recent call last)",
      "\u001b[1;32m<ipython-input-4-cb5adef76785>\u001b[0m in \u001b[0;36m<module>\u001b[1;34m\u001b[0m\n\u001b[0;32m      3\u001b[0m \u001b[1;31m#&&\u001b[0m\u001b[1;33m\u001b[0m\u001b[1;33m\u001b[0m\u001b[1;33m\u001b[0m\u001b[0m\n\u001b[0;32m      4\u001b[0m \u001b[0mtweets\u001b[0m \u001b[1;33m=\u001b[0m \u001b[1;33m[\u001b[0m\u001b[1;33m]\u001b[0m\u001b[1;33m\u001b[0m\u001b[1;33m\u001b[0m\u001b[0m\n\u001b[1;32m----> 5\u001b[1;33m \u001b[1;32mfor\u001b[0m \u001b[0mline\u001b[0m \u001b[1;32min\u001b[0m \u001b[0mopen\u001b[0m\u001b[1;33m(\u001b[0m\u001b[1;34m'*.json'\u001b[0m\u001b[1;33m,\u001b[0m \u001b[1;34m'r'\u001b[0m\u001b[1;33m)\u001b[0m\u001b[1;33m:\u001b[0m\u001b[1;33m\u001b[0m\u001b[1;33m\u001b[0m\u001b[0m\n\u001b[0m\u001b[0;32m      6\u001b[0m     \u001b[0mtweets\u001b[0m\u001b[1;33m.\u001b[0m\u001b[0mappend\u001b[0m\u001b[1;33m(\u001b[0m\u001b[0mjson\u001b[0m\u001b[1;33m.\u001b[0m\u001b[0mloads\u001b[0m\u001b[1;33m(\u001b[0m\u001b[0mline\u001b[0m\u001b[1;33m)\u001b[0m\u001b[1;33m)\u001b[0m\u001b[1;33m\u001b[0m\u001b[1;33m\u001b[0m\u001b[0m\n",
      "\u001b[1;31mOSError\u001b[0m: [Errno 22] Invalid argument: '*.json'"
     ],
     "ename": "OSError",
     "evalue": "[Errno 22] Invalid argument: '*.json'",
     "output_type": "error"
    }
   ],
   "source": [
    "with open(\"outfile.json\", \"w\") as outfile:\n",
    "    json.dump(ar, outfile)\n",
    "#&&\n",
    "#to add to a list\n",
    "tweets = []\n",
    "for line in open('*.json', 'r'):\n",
    "    tweets.append(json.loads(line))"
   ],
   "metadata": {
    "collapsed": false,
    "pycharm": {
     "name": "#%%\n",
     "is_executing": false
    }
   }
  },
  {
   "cell_type": "code",
   "execution_count": null,
   "outputs": [],
   "source": [],
   "metadata": {
    "collapsed": false,
    "pycharm": {
     "name": "#%%\n"
    }
   }
  },
  {
   "cell_type": "code",
   "execution_count": null,
   "outputs": [],
   "source": [
    "import pandas as pd\n",
    "df = pd.read_json(\"python.json\", orient = 'records', lines = True)"
   ],
   "metadata": {
    "collapsed": false,
    "pycharm": {
     "name": "#%% import into pandas\n"
    }
   }
  },
  {
   "cell_type": "code",
   "execution_count": null,
   "outputs": [],
   "source": [],
   "metadata": {
    "collapsed": false,
    "pycharm": {
     "name": "#%%\n"
    }
   }
  },
  {
   "cell_type": "code",
   "execution_count": null,
   "outputs": [],
   "source": [
    "import pandas as pd\n",
    "#results is the JSON tweet data. \n",
    "\n",
    "#Define the columns you want to extract\n",
    "resultFrame = pd.DataFrame(columns=[\"username\",\"created_at\",\"tweet\"])\n",
    "print len(results)\n",
    "\n",
    "for i in range(len(results)):\n",
    "    resultFrame.loc[i,\"username\"] = results[i].user.screen_name\n",
    "    resultFrame.loc[i, \"created_at\"] = results[i].created_at\n",
    "    resultFrame.loc[i, \"tweet\"] = results[i].text\n",
    "\n",
    "print resultFrame.head()"
   ],
   "metadata": {
    "collapsed": false,
    "pycharm": {
     "name": "#%%or \n"
    }
   }
  },
  {
   "cell_type": "code",
   "execution_count": 2,
   "outputs": [],
   "source": [
    "file_list = glob.glob(\"*.json\")\n",
    "try:\n",
    "    with open('aapl.json', 'w') as outfile:\n",
    "        for fname in file_list:\n",
    "            with open(fname) as infile:\n",
    "                for line in infile:\n",
    "                    outfile.write(line)\n",
    "\n",
    "except Exception:\n",
    "    pass"
   ],
   "metadata": {
    "collapsed": false,
    "pycharm": {
     "name": "#%%\n",
     "is_executing": false
    }
   }
  }
 ],
 "metadata": {
  "language_info": {
   "codemirror_mode": {
    "name": "ipython",
    "version": 2
   },
   "file_extension": ".py",
   "mimetype": "text/x-python",
   "name": "python",
   "nbconvert_exporter": "python",
   "pygments_lexer": "ipython2",
   "version": "2.7.6"
  },
  "kernelspec": {
   "name": "python3",
   "language": "python",
   "display_name": "Python 3"
  },
  "pycharm": {
   "stem_cell": {
    "cell_type": "raw",
    "source": [],
    "metadata": {
     "collapsed": false
    }
   }
  }
 },
 "nbformat": 4,
 "nbformat_minor": 0
}